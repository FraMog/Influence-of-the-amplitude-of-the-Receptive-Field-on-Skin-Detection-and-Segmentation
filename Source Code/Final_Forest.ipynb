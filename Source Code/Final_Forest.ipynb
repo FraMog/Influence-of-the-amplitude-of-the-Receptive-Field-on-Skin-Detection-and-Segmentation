{
 "cells": [
  {
   "cell_type": "code",
   "execution_count": 1,
   "metadata": {},
   "outputs": [],
   "source": [
    "import numpy as np\n",
    "import matplotlib.pyplot as plt\n",
    "import matplotlib.cm as cm\n",
    "import matplotlib.image as img\n",
    "import ast\n",
    "import math\n",
    "import pickle\n",
    "from sklearn.ensemble import RandomForestClassifier as rfc\n",
    "import pandas as pd"
   ]
  },
  {
   "cell_type": "code",
   "execution_count": 2,
   "metadata": {},
   "outputs": [],
   "source": [
    "def save_predictions(prediction, path, n_rows, n_cols, block_size, treshold):\n",
    "    plt.imsave(path, np.array(build_output_mask(n_rows, n_cols, prediction, block_size, treshold)), cmap=cm.gray)"
   ]
  },
  {
   "cell_type": "code",
   "execution_count": 3,
   "metadata": {},
   "outputs": [],
   "source": [
    "def create_name_string(number):\n",
    "    s = str(number)\n",
    "    for i in range(5 -len(s)):\n",
    "        s = '0' + s\n",
    "    return s"
   ]
  },
  {
   "cell_type": "code",
   "execution_count": 4,
   "metadata": {},
   "outputs": [],
   "source": [
    "def fetch_images(start_index, end_index):\n",
    "    images = []\n",
    "    masks = []\n",
    "    for i in range(start_index, end_index):\n",
    "        cur = create_name_string(i)\n",
    "        images.append(img.imread('ECU\\\\001\\\\im'+cur+'.jpg'))\n",
    "        masks.append(img.imread('ECU\\\\masks\\\\001\\\\im'+cur+'_s.bmp'))\n",
    "        \n",
    "    return np.asarray(images), np.asarray(masks)"
   ]
  },
  {
   "cell_type": "code",
   "execution_count": 5,
   "metadata": {},
   "outputs": [],
   "source": [
    "from math import *\n",
    "def get_hue(r, g, b):\n",
    "\n",
    "    nr = r/255\n",
    "    ng = g/255\n",
    "    nb = b/255\n",
    "\n",
    "    hue = 0.0\n",
    "\n",
    "    mi = min(min(nr, ng), nb);\n",
    "    ma = max(max(nr, ng), nb);\n",
    "\n",
    "    if (mi == ma):\n",
    "        return hue\n",
    "\n",
    "    if (ma == nr):\n",
    "        hue = (ng - nb) / (ma - mi)\n",
    "\n",
    "    elif (ma == ng):\n",
    "        hue = 2.0 + (nb - nr) / (ma - mi)\n",
    "\n",
    "    else:\n",
    "        hue = 4.0 + (nr - ng) / (ma - mi)\n",
    "\n",
    "    hue = hue * 60\n",
    "\n",
    "    if (hue < 0):\n",
    "        hue = hue + 360\n",
    "\n",
    "    hue = round(hue)\n",
    "    return hue"
   ]
  },
  {
   "cell_type": "code",
   "execution_count": 6,
   "metadata": {},
   "outputs": [],
   "source": [
    "def feature_extractor(image):\n",
    "    height = len(image)\n",
    "    width = len(image[0])\n",
    "    #print(str(height)+\" \"+str(width))\n",
    "    \n",
    "    features_image = []\n",
    "    \n",
    "    for i in range(height):\n",
    "        row = []\n",
    "        for j in range(width):\n",
    "            \n",
    "            r = image[i][j][0]\n",
    "            g = image[i][j][1]\n",
    "            b = image[i][j][2]\n",
    "                        \n",
    "            #conversion to YCrCb\n",
    "            y = (.299*r + .587*g + .114*b)\n",
    "            cb = (128 -.168736*r -.331364*g + .5*b)\n",
    "            cr = (128 +.5*r - .418688*g - .081312*b)\n",
    "            \n",
    "            values = [y, cb, cr, get_hue(r, g, b), r/255]\n",
    "            row.append(values)\n",
    "        features_image.append(row)\n",
    "    \n",
    "    return features_image"
   ]
  },
  {
   "cell_type": "code",
   "execution_count": 7,
   "metadata": {},
   "outputs": [],
   "source": [
    "def compute_features(images):\n",
    "    result = []\n",
    "    avoid=[]\n",
    "    for i in range(len(images)):\n",
    "        print(i)\n",
    "        try:\n",
    "            result.append(feature_extractor(images[i]))\n",
    "        except:\n",
    "            avoid.append(i)\n",
    "            print(\"Exception happened!! - exc. number \"+str(len(avoid)))\n",
    "    return result, avoid"
   ]
  },
  {
   "cell_type": "code",
   "execution_count": 8,
   "metadata": {},
   "outputs": [],
   "source": [
    "def get_block(section, block_size):\n",
    "    block = np.asarray([])\n",
    "    for i in range(block_size):\n",
    "        for j in range(block_size):\n",
    "            block = np.insert(block, len(block), section[i][j], 0)\n",
    "    return np.asarray(block)"
   ]
  },
  {
   "cell_type": "code",
   "execution_count": 9,
   "metadata": {},
   "outputs": [],
   "source": [
    "def get_separate_blocks(items, block_size, avoid = []):\n",
    "    \n",
    "    blocks = []\n",
    "    for k in range(len(items)):\n",
    "        if k in avoid:\n",
    "            continue\n",
    "        item = np.asarray(items[k])\n",
    "        height = len(item)\n",
    "        width = len(item[1])\n",
    "        n_horizontal_blocks = int(math.floor(width/block_size))\n",
    "        n_vertical_blocks = int(math.floor(height/block_size))\n",
    "\n",
    "        for i in range(n_vertical_blocks):\n",
    "            for j in range(n_horizontal_blocks):\n",
    "                section = np.asarray(item[(i*block_size) : ((i+1)*block_size), (j*block_size) :((j+1)*block_size)])\n",
    "                \n",
    "                blocks.append(get_block(section, block_size))\n",
    "\n",
    "    return np.asarray(blocks)"
   ]
  },
  {
   "cell_type": "code",
   "execution_count": 10,
   "metadata": {},
   "outputs": [],
   "source": [
    "#Questa funzione ricostruisce la maschera a partire dalle predizioni fatte dagli algoritmi\n",
    "\n",
    "def build_output_mask_separate(n_rows, n_cols, predictions, block_size):\n",
    "\n",
    "    n_horizontal_blocks = int(math.floor(n_cols/block_size))\n",
    "    n_vertical_blocks = int(math.floor(n_rows/block_size))\n",
    "            \n",
    "    height = n_vertical_blocks*block_size\n",
    "    width = n_horizontal_blocks*block_size\n",
    "    \n",
    "    out_mask = np.zeros((n_vertical_blocks*block_size, n_horizontal_blocks*block_size), int)\n",
    "\n",
    "\n",
    "    for i in range(n_vertical_blocks):\n",
    "        for j in range(n_horizontal_blocks):\n",
    "            p = predictions[(i*n_horizontal_blocks)+j]\n",
    "            #current = out_mask[(i*block_size) : ((i+1)*block_size), (j*block_size) :((j+1)*block_size)]\n",
    "            out_mask[(i*block_size) : ((i+1)*block_size), (j*block_size) :((j+1)*block_size)] =  np.reshape(p, (block_size, block_size))\n",
    "            \n",
    "    return height, width, out_mask"
   ]
  },
  {
   "cell_type": "code",
   "execution_count": 11,
   "metadata": {},
   "outputs": [],
   "source": [
    "def get_accuratezza_singola(pred, ground):\n",
    "    TP = float(0)\n",
    "    TN = float(0)\n",
    "    FP = float(0)\n",
    "    FN = float(0)\n",
    "    n_rows = len(pred)\n",
    "    n_cols = len(pred[0])\n",
    "    for i in range(n_rows):\n",
    "        for j in range(n_cols):\n",
    "            if ground[i][j] == 255 and pred[i][j] == 255:\n",
    "                TN = TN + 1\n",
    "            elif ground[i][j] == 255 and pred[i][j] == 0:\n",
    "                FP = FP + 1\n",
    "            elif ground[i][j] == 0 and pred[i][j] == 0:\n",
    "                TP = TP + 1\n",
    "            elif ground[i][j] == 0 and pred[i][j] == 255:\n",
    "                FN = FN + 1\n",
    "    \n",
    "    precision = TP/(TP+FP)\n",
    "    recall=TP/(TP+FN)\n",
    "    \n",
    "    f_measure=2*((precision*recall)/(precision+recall))\n",
    "    \n",
    "    print(\"F_Measure = \"+str(f_measure))\n",
    "    return TP, TN, FP, FN"
   ]
  },
  {
   "cell_type": "code",
   "execution_count": 12,
   "metadata": {},
   "outputs": [],
   "source": [
    "def get_accuratezza_globale(preds, grounds, avoid = []):\n",
    "    TP = 0\n",
    "    TN = 0\n",
    "    FP = 0\n",
    "    FN = 0\n",
    "    n_img = len(preds)\n",
    "    for i in range(n_img):\n",
    "        if i in avoid:\n",
    "            continue\n",
    "        print(i)\n",
    "        cTP, cTN, cFP, cFN = get_accuratezza_singola(preds[i], grounds[i])\n",
    "        \n",
    "        TP = TP + cTP\n",
    "        TN = TN + cTN\n",
    "        FP = FP + cFP\n",
    "        FN = FN + cFN\n",
    "        \n",
    "    precision = TP/(TP+FP)\n",
    "    recall=TP/(TP+FN)\n",
    "    f_measure=2*((precision*recall)/(precision+recall))\n",
    "    print(\"F_Measure = \"+str(f_measure))\n",
    "    return TP, TN, FP, FN"
   ]
  },
  {
   "cell_type": "code",
   "execution_count": 13,
   "metadata": {},
   "outputs": [],
   "source": [
    "def scale_labels(labels, block_size):\n",
    "    new_labels = []\n",
    "    \n",
    "    for k in range(len(labels)):\n",
    "        c = []\n",
    "        for i in range(block_size*block_size):\n",
    "            if labels[k][i] == 0:\n",
    "                c.append(0)\n",
    "            else :\n",
    "                c.append(1)\n",
    "        new_labels.append(c)\n",
    "    return np.asarray(new_labels)"
   ]
  },
  {
   "cell_type": "code",
   "execution_count": 14,
   "metadata": {},
   "outputs": [],
   "source": [
    "def add_border(vertical_diff, horizontal_diff, image):\n",
    "    height = len(image)\n",
    "    width = len(image[0])\n",
    "    mask = np.zeros((height+(2*vertical_diff), width+(2*horizontal_diff), 5), int)\n",
    "    mask[vertical_diff:height+vertical_diff, horizontal_diff: width+horizontal_diff] = image\n",
    "    return mask"
   ]
  },
  {
   "cell_type": "code",
   "execution_count": 15,
   "metadata": {},
   "outputs": [],
   "source": [
    "def join_predictions(p1, p2, height, width, h_dif, v_dif, block_size, treshold):\n",
    "    a, b, mask1 = build_output_mask_separate(height+v_dif, width+h_dif, p1, block_size)\n",
    "    a, b, mask2 = build_output_mask_separate(height+v_dif, width+h_dif, p2, block_size)\n",
    "    \n",
    "    mask1 = mask1[v_dif:height+v_dif, h_dif:width+h_dif]\n",
    "    mask2 = mask2[0:height, 0:width]\n",
    "    \n",
    "    mask = mask1 + mask2\n",
    "    \n",
    "    for i in range(height):\n",
    "        for j in range(width):\n",
    "            if mask[i, j] == 2:\n",
    "                mask[i, j] = 255\n",
    "            else:\n",
    "                mask[i, j] = 0\n",
    "    return mask\n",
    "    "
   ]
  },
  {
   "cell_type": "code",
   "execution_count": 16,
   "metadata": {},
   "outputs": [],
   "source": [
    "def get_prediction(classifier, image, block_size):\n",
    "    height=len(image)\n",
    "    width=len(image[0])\n",
    "\n",
    "    horizontal_difference = block_size - (width % block_size)\n",
    "    vertical_difference = block_size - (height % block_size)\n",
    "\n",
    "    image = add_border(vertical_difference, horizontal_difference, image)\n",
    "\n",
    "    b1 = get_separate_blocks([image[0:height+vertical_difference, 0:width+horizontal_difference]], block_size)\n",
    "    b2 = get_separate_blocks([image[vertical_difference:height+(2*vertical_difference), horizontal_difference:width+(2*horizontal_difference)]], block_size)\n",
    "\n",
    "    p1 = classifier.predict(b1)\n",
    "    p2 = classifier.predict(b2)\n",
    "\n",
    "    return join_predictions(p1, p2, height, width, horizontal_difference, vertical_difference, block_size, 2)"
   ]
  },
  {
   "cell_type": "code",
   "execution_count": 17,
   "metadata": {},
   "outputs": [],
   "source": [
    "def get_predictions(classifier, images, block_size):\n",
    "    l = len(images)\n",
    "    predictions = []\n",
    "    for i in range(l):\n",
    "        predictions.append(get_prediction(classifier, images[i], block_size))\n",
    "    return predictions"
   ]
  },
  {
   "cell_type": "code",
   "execution_count": 18,
   "metadata": {},
   "outputs": [],
   "source": [
    "def adjust_pred(prediction):\n",
    "    image = []\n",
    "    for i in range(len(prediction)):\n",
    "        row = []\n",
    "        for j in range(len(prediction[0])):\n",
    "            p = int(prediction[i][j][0])\n",
    "            if p == 1:\n",
    "                p = 255\n",
    "            row.append(p)\n",
    "        image.append(row)\n",
    "    return np.asarray(image)"
   ]
  },
  {
   "cell_type": "code",
   "execution_count": 19,
   "metadata": {},
   "outputs": [
    {
     "name": "stdout",
     "output_type": "stream",
     "text": [
      "0\n",
      "1\n",
      "1\n",
      "2\n",
      "3\n"
     ]
    },
    {
     "name": "stderr",
     "output_type": "stream",
     "text": [
      "C:\\Users\\Andrea\\AppData\\Local\\conda\\conda\\envs\\CCM-SDM-ANN\\lib\\site-packages\\ipykernel_launcher.py:16: DataConversionWarning: A column-vector y was passed when a 1d array was expected. Please change the shape of y to (n_samples,), for example using ravel().\n",
      "  app.launch_new_instance()\n"
     ]
    },
    {
     "name": "stdout",
     "output_type": "stream",
     "text": [
      "4\n",
      "DONE! 1\n",
      "1\n",
      "2\n",
      "3\n",
      "4\n",
      "DONE! 2\n",
      "1\n",
      "2\n",
      "3\n",
      "4\n",
      "DONE! 5\n"
     ]
    }
   ],
   "source": [
    "## Codice per l'allenamento e la serializzazione dei classificatori\n",
    "\n",
    "images_train, masks_train = fetch_images(1, 3)\n",
    "images_train_features, avoid_train = compute_features(images_train)\n",
    "\n",
    "block_sizes = [1, 2, 5, 10, 20]\n",
    "for i in range(len(block_sizes)):\n",
    "    block_size = block_sizes[i]\n",
    "    clf = rfc(n_estimators = 50, max_depth = 20)\n",
    "    blocks_images_train = get_separate_blocks(images_train_features, block_size)\n",
    "    print(1)\n",
    "    blocks_masks_train = get_separate_blocks(masks_train, block_size, avoid_train)\n",
    "    print(2)\n",
    "    blocks_masks_train = scale_labels(blocks_masks_train, block_size)\n",
    "    print(3)\n",
    "    clf.fit(blocks_images_train, blocks_masks_train)\n",
    "    print(4)\n",
    "    pickle.dump(clf, open('C1_'+str(block_size)+'.sav', 'wb'))\n",
    "    print(\"DONE! \"+str(block_size))"
   ]
  },
  {
   "cell_type": "code",
   "execution_count": 20,
   "metadata": {},
   "outputs": [
    {
     "name": "stdout",
     "output_type": "stream",
     "text": [
      "0\n",
      "1\n",
      "2\n",
      "Caricato 1\n",
      "Predizioni fatte 1\n",
      "Finito 1 !!!!\n",
      "Caricato 2\n",
      "Predizioni fatte 2\n",
      "Finito 2 !!!!\n",
      "Caricato 5\n",
      "Predizioni fatte 5\n",
      "Finito 5 !!!!\n"
     ]
    }
   ],
   "source": [
    "# Codice per calcolare una serie di predizioni con i classificatori serializzati e salvarle\n",
    "\n",
    "block_sizes = [1, 2, 5, 10, 20]\n",
    "\n",
    "images_to_save, masks_to_save = fetch_images(3, 6)\n",
    "im_features_save, avoid_save = compute_features(images_to_save)\n",
    "\n",
    "for i in range(len(block_sizes)):\n",
    "    block_size = block_sizes[i]\n",
    "    clf = pickle.load(open(\"C1_\"+str(block_size)+\".sav\", 'rb'))\n",
    "    print(\"Caricato \"+str(block_size))\n",
    "    p = get_predictions(clf, im_features_save, block_size)\n",
    "    print(\"Predizioni fatte \"+str(block_size))\n",
    "    for j in range(len(p)):\n",
    "        cur = p[j]\n",
    "        plt.imsave(\"immagini_test_2//predizione_N_\"+str(j)+\"_BS_\"+str(block_size)+\".png\", cur, cmap=cm.gray)\n",
    "    print(\"Finito \"+str(block_size)+\" !!!!\")"
   ]
  },
  {
   "cell_type": "code",
   "execution_count": 23,
   "metadata": {},
   "outputs": [
    {
     "name": "stdout",
     "output_type": "stream",
     "text": [
      "iterazione 0 #################\n",
      "F_Measure = 0.020175205734005844\n",
      "F_Measure = 0.20721153846153842\n",
      "F_Measure = 0.04226276414227589\n",
      "F_Measure = 0.006402561024409764\n",
      "F_Measure = 0.03599214145383104\n",
      "F_Measure = 0.013268046122255565\n",
      "F_Measure = 0.02707522697795071\n",
      "F_Measure = 0.12773135014950548\n",
      "F_Measure = 0.09822753181853673\n",
      "#Exceptions = 0\n",
      "Global F_scores:\n",
      "Block_size = 1\n",
      "P = 0.8323529411764706 R = 0.008836846213895395 F = 0.0174880271898656\n",
      "Block_size = 2\n",
      "P = 0.932622394571013 R = 0.060078064012490245 F = 0.1128842994602206\n",
      "Block_size = 5\n",
      "P = 0.8222013170272813 R = 0.027291178766588604 F = 0.052828820116054165\n"
     ]
    }
   ],
   "source": [
    "## Codice per il calcolo di precisione, richiamo ed f measure sulle predizioni\n",
    "\n",
    "block_sizes = [1, 2, 5, 10, 20]\n",
    "out_file = open(\"results_pr_2.txt\", \"w\")\n",
    "TP_count = [float(0), float(0), float(0), float(0), float(0)]\n",
    "TN_count = [float(0), float(0), float(0), float(0), float(0)]\n",
    "FP_count = [float(0), float(0), float(0), float(0), float(0)]\n",
    "FN_count = [float(0), float(0), float(0), float(0), float(0)]\n",
    "c = 0\n",
    "for m in range(len(masks_to_save)):\n",
    "    if (m % 50) == 0:\n",
    "        print(\"iterazione \"+str(m)+\" #################\")\n",
    "    cur_p = [0, 0, 0, 0, 0]\n",
    "    cur_r = [0, 0, 0, 0, 0]\n",
    "    cur_f = [0, 0, 0, 0, 0]\n",
    "    current_mask = masks_to_save[m]\n",
    "    try:\n",
    "        for b in range(len(block_sizes)):\n",
    "            block_size = block_sizes[b]\n",
    "            current_pred = adjust_pred(img.imread(\"immagini_test_2//predizione_N_\"+str(m)+\"_BS_\"+str(block_size)+\".png\"))\n",
    "            TP, TN, FP, FN = get_accuratezza_singola(current_pred, current_mask)\n",
    "            TP_count[b] = TP_count[b] + TP\n",
    "            TN_count[b] = TN_count[b] + TN\n",
    "            FP_count[b] = FP_count[b] + FP\n",
    "            FN_count[b] = FN_count[b] + FN\n",
    "            precision = TP/(TP+FP)\n",
    "            recall=TP/(TP+FN)\n",
    "            f_measure=2*((precision*recall)/(precision+recall))\n",
    "            cur_p[b] = precision\n",
    "            cur_r[b] = recall\n",
    "            cur_f[b] = f_measure\n",
    "    except:\n",
    "        c = c + 1\n",
    "        continue\n",
    "    out_file.write(\"\\n img \"+str(1500+m) +\": \\n P = \"+str(cur_p)+\" R = \"+str(cur_r)+\" F =\"+str(cur_f))\n",
    "print(\"#Exceptions = \"+str(c))\n",
    "print(\"Global F_scores:\")\n",
    "out_file.write(\"\\n Global Results \\n\")\n",
    "for b in range(len(block_sizes)):\n",
    "    print(\"Block_size = \" + str(block_sizes[b]))\n",
    "    tp = TP_count[b]\n",
    "    tn = TN_count[b]\n",
    "    fp = FP_count[b]\n",
    "    fn = FN_count[b]\n",
    "    precision = tp/(tp+fp)\n",
    "    recall=tp/(tp+fn)\n",
    "    f_measure=2*((precision*recall)/(precision+recall))\n",
    "    print(\"P = \"+str(precision)+\" R = \"+str(recall)+\" F = \" +str(f_measure))\n",
    "    out_file.write(\"P = \"+str(precision)+\" R = \"+str(recall)+\" F = \" +str(f_measure))                           "
   ]
  },
  {
   "cell_type": "code",
   "execution_count": null,
   "metadata": {},
   "outputs": [],
   "source": []
  }
 ],
 "metadata": {
  "kernelspec": {
   "display_name": "Python 3",
   "language": "python",
   "name": "python3"
  },
  "language_info": {
   "codemirror_mode": {
    "name": "ipython",
    "version": 3
   },
   "file_extension": ".py",
   "mimetype": "text/x-python",
   "name": "python",
   "nbconvert_exporter": "python",
   "pygments_lexer": "ipython3",
   "version": "3.6.5"
  }
 },
 "nbformat": 4,
 "nbformat_minor": 2
}
